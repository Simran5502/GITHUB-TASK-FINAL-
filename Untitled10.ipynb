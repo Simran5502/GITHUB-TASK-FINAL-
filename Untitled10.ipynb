{
  "nbformat": 4,
  "nbformat_minor": 0,
  "metadata": {
    "colab": {
      "provenance": []
    },
    "kernelspec": {
      "name": "python3",
      "display_name": "Python 3"
    },
    "language_info": {
      "name": "python"
    }
  },
  "cells": [
    {
      "cell_type": "code",
      "execution_count": 4,
      "metadata": {
        "id": "gVct8eeWwDcc"
      },
      "outputs": [],
      "source": [
        "# Task 2.ipynb\n"
      ]
    },
    {
      "cell_type": "code",
      "source": [
        "import os\n",
        "import requests\n",
        "from bs4 import BeautifulSoup\n",
        "\n",
        "\n"
      ],
      "metadata": {
        "id": "pSH91rwxwrJT"
      },
      "execution_count": 5,
      "outputs": []
    },
    {
      "cell_type": "code",
      "source": [
        "def scrape_medium_article(url):\n",
        "    response = requests.get(url)\n",
        "    if response.status_code != 200:\n",
        "        print(\"Failed to retrieve the article\")\n",
        "        return\n",
        "\n",
        "    soup = BeautifulSoup(response.text, 'html.parser')\n",
        "    paragraphs = soup.find_all('p')\n",
        "    article_text = '\\n'.join([para.get_text() for para in paragraphs])\n",
        "\n",
        "    folder_name = \"scraped_articles\"\n",
        "    os.makedirs(folder_name, exist_ok=True)\n",
        "\n",
        "    file_path = os.path.join(folder_name, \"medium_article.txt\")\n",
        "    with open(file_path, \"w\", encoding='utf-8') as file:\n",
        "        file.write(article_text)\n",
        "\n",
        "    print(f\"Article successfully saved to {file_path}\")\n"
      ],
      "metadata": {
        "id": "WiOkKwkR0q9k"
      },
      "execution_count": 6,
      "outputs": []
    },
    {
      "cell_type": "code",
      "source": [
        "medium_url = \"https://medium.com/personal-growth/the-only-productivity-hack-you-need-1794f68c43a1\"\n",
        "scrape_medium_article(medium_url)\n"
      ],
      "metadata": {
        "colab": {
          "base_uri": "https://localhost:8080/"
        },
        "id": "p2r8x6on0tXe",
        "outputId": "1c6c53a8-1cdb-49b8-b450-d4280157f43a"
      },
      "execution_count": 7,
      "outputs": [
        {
          "output_type": "stream",
          "name": "stdout",
          "text": [
            "Article successfully saved to scraped_articles/medium_article.txt\n"
          ]
        }
      ]
    }
  ]
}